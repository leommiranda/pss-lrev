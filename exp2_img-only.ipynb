{
 "cells": [
  {
   "cell_type": "code",
   "execution_count": 1,
   "metadata": {},
   "outputs": [
    {
     "name": "stderr",
     "output_type": "stream",
     "text": [
      "Using TensorFlow backend.\n"
     ]
    }
   ],
   "source": [
    "import gc\n",
    "import time\n",
    "import model_img\n",
    "import fasttext\n",
    "from keras.callbacks import ModelCheckpoint\n",
    "from importlib import reload\n",
    "from keras import backend as K"
   ]
  },
  {
   "cell_type": "code",
   "execution_count": 2,
   "metadata": {},
   "outputs": [
    {
     "name": "stdout",
     "output_type": "stream",
     "text": [
      "env: CUDA_DEVICE_ORDER=PCI_BUS_ID\n",
      "env: CUDA_VISIBLE_DEVICES=3\n"
     ]
    }
   ],
   "source": [
    "from keras.backend.tensorflow_backend import set_session\n",
    "import tensorflow as tf\n",
    "\n",
    "%env CUDA_DEVICE_ORDER=PCI_BUS_ID\n",
    "%env CUDA_VISIBLE_DEVICES=3\n",
    "\n",
    "config = tf.ConfigProto()\n",
    "config.gpu_options.allow_growth = True\n",
    "set_session(tf.Session(config=config))"
   ]
  },
  {
   "cell_type": "code",
   "execution_count": 14,
   "metadata": {},
   "outputs": [
    {
     "data": {
      "text/plain": [
       "<module 'model_img' from '/srv/home/gwiedemann/pss-lre/model_img.py'>"
      ]
     },
     "execution_count": 14,
     "metadata": {},
     "output_type": "execute_result"
    }
   ],
   "source": [
    "reload(model_img)"
   ]
  },
  {
   "cell_type": "code",
   "execution_count": 3,
   "metadata": {},
   "outputs": [],
   "source": [
    "img_dim = (224,224)"
   ]
  },
  {
   "cell_type": "code",
   "execution_count": 4,
   "metadata": {},
   "outputs": [],
   "source": [
    "data_train = model_img.read_csv_data(\"data/archive20k/text/dataset.train\")\n",
    "data_test = model_img.read_csv_data(\"data/archive20k/text/dataset.test\")"
   ]
  },
  {
   "cell_type": "code",
   "execution_count": 32,
   "metadata": {},
   "outputs": [
    {
     "name": "stdout",
     "output_type": "stream",
     "text": [
      "Training from layer 17\n"
     ]
    }
   ],
   "source": [
    "model_singlepage = model_img.compile_model_singlepage(img_dim, print_summary=False)"
   ]
  },
  {
   "cell_type": "code",
   "execution_count": 8,
   "metadata": {},
   "outputs": [],
   "source": [
    "# del model_singlepage\n",
    "# model_singlepage.summary()"
   ]
  },
  {
   "cell_type": "code",
   "execution_count": 35,
   "metadata": {},
   "outputs": [
    {
     "name": "stdout",
     "output_type": "stream",
     "text": [
      "Epoch 1/5\n",
      "32/32 [==============================] - 6s 190ms/step - loss: 2.6737 - acc: 0.7423\n",
      "\n",
      "kappa improvement: -0.08193883439122929 (before: -inf), saving to exp1_single-page_repeat-00.hdf5\n",
      "Epoch 2/5\n",
      "32/32 [==============================] - 6s 199ms/step - loss: 2.2638 - acc: 0.7695\n",
      "\n",
      "kappa improvement: -0.07667685144769387 (before: -0.08193883439122929), saving to exp1_single-page_repeat-00.hdf5\n",
      "Epoch 3/5\n",
      "32/32 [==============================] - 6s 189ms/step - loss: 2.0368 - acc: 0.7919\n",
      "\n",
      "kappa improvement: 0.056102100505184826 (before: -0.07667685144769387), saving to exp1_single-page_repeat-00.hdf5\n",
      "Epoch 4/5\n",
      "32/32 [==============================] - 6s 189ms/step - loss: 1.6061 - acc: 0.8280\n",
      "\n",
      "kappa improvement: 0.08042821850123527 (before: 0.056102100505184826), saving to exp1_single-page_repeat-00.hdf5\n",
      "Epoch 5/5\n",
      "32/32 [==============================] - 6s 191ms/step - loss: 1.3278 - acc: 0.8418\n",
      "\n",
      "kappa improvement: 0.16312056737588654 (before: 0.08042821850123527), saving to exp1_single-page_repeat-00.hdf5\n"
     ]
    },
    {
     "data": {
      "text/plain": [
       "<keras.callbacks.History at 0x7f0be554e0f0>"
      ]
     },
     "execution_count": 35,
     "metadata": {},
     "output_type": "execute_result"
    }
   ],
   "source": [
    "model_file = \"exp1_single-page_repeat-%02d.hdf5\" % (0,)\n",
    "checkpoint = model_img.ValidationCheckpoint(model_file, data_test[:200], img_dim, metric='kappa')\n",
    "model_singlepage.fit_generator(generator=model_img.ImageFeatureGenerator(data_train[:1000], img_dim),\n",
    "                callbacks = [checkpoint],\n",
    "                epochs = 5)"
   ]
  },
  {
   "cell_type": "code",
   "execution_count": 36,
   "metadata": {},
   "outputs": [
    {
     "data": {
      "text/plain": [
       "array([[0.],\n",
       "       [0.],\n",
       "       [0.],\n",
       "       [0.],\n",
       "       [1.],\n",
       "       [1.],\n",
       "       [1.],\n",
       "       [1.],\n",
       "       [1.],\n",
       "       [1.]], dtype=float32)"
      ]
     },
     "execution_count": 36,
     "metadata": {},
     "output_type": "execute_result"
    }
   ],
   "source": [
    "import numpy as np\n",
    "np.round(model_singlepage.predict_generator(generator=model_img.ImageFeatureGenerator(data_train[:10], img_dim)))"
   ]
  },
  {
   "cell_type": "code",
   "execution_count": 38,
   "metadata": {},
   "outputs": [],
   "source": [
    "reload(model_img)\n",
    "model_slices = model_img.compile_model_singlepage_slices(img_dim, print_summary=False)"
   ]
  },
  {
   "cell_type": "code",
   "execution_count": 39,
   "metadata": {
    "scrolled": true
   },
   "outputs": [
    {
     "name": "stdout",
     "output_type": "stream",
     "text": [
      "Epoch 1/2\n",
      "32/32 [==============================] - 10s 305ms/step - loss: 0.9415 - acc: 0.6651\n",
      "\n",
      "kappa improvement: 0.14750198255352887 (before: -inf), saving to exp1_slices_repeat-00.hdf5\n",
      "Epoch 2/2\n",
      "32/32 [==============================] - 7s 228ms/step - loss: 0.4112 - acc: 0.7852\n",
      "\n",
      "kappa improvement: 0.24184988627748305 (before: 0.14750198255352887), saving to exp1_slices_repeat-00.hdf5\n"
     ]
    },
    {
     "data": {
      "text/plain": [
       "<keras.callbacks.History at 0x7fa3c84cb6d8>"
      ]
     },
     "execution_count": 39,
     "metadata": {},
     "output_type": "execute_result"
    }
   ],
   "source": [
    "model_file = \"exp1_slices_repeat-%02d.hdf5\" % (0,)\n",
    "checkpoint = model_img.ValidationCheckpoint(model_file, data_test[:200], img_dim, prev_page_generator='slices', metric='kappa')\n",
    "model_slices.fit_generator(generator=model_img.ImageFeatureGenerator(data_train[:1000], img_dim, slices=True),\n",
    "                callbacks = [checkpoint],\n",
    "                epochs = 2)"
   ]
  },
  {
   "cell_type": "code",
   "execution_count": 40,
   "metadata": {},
   "outputs": [
    {
     "name": "stdout",
     "output_type": "stream",
     "text": [
      "[[1.]\n",
      " [0.]\n",
      " [0.]\n",
      " [1.]\n",
      " [1.]\n",
      " [1.]\n",
      " [1.]\n",
      " [0.]\n",
      " [1.]\n",
      " [1.]]\n"
     ]
    },
    {
     "data": {
      "text/plain": [
       "array([[0.5363179 ],\n",
       "       [0.47066787],\n",
       "       [0.49822107],\n",
       "       [0.5670634 ],\n",
       "       [0.56869125],\n",
       "       [0.64747995],\n",
       "       [0.6168937 ],\n",
       "       [0.42107165],\n",
       "       [0.5875879 ],\n",
       "       [0.5881664 ]], dtype=float32)"
      ]
     },
     "execution_count": 40,
     "metadata": {},
     "output_type": "execute_result"
    }
   ],
   "source": [
    "import numpy as np\n",
    "print(np.round(model_slices.predict_generator(generator=model_img.ImageFeatureGenerator(data_train[:10], img_dim, slices=True))))\n",
    "model_slices.predict_generator(generator=model_img.ImageFeatureGenerator(data_train[:10], img_dim, slices=True))"
   ]
  },
  {
   "cell_type": "markdown",
   "metadata": {},
   "source": [
    "# Experiment: VGG CNN model (single page)\n",
    "* optimize for Kappa\n",
    "* 10 repeats"
   ]
  },
  {
   "cell_type": "code",
   "execution_count": null,
   "metadata": {
    "scrolled": true
   },
   "outputs": [
    {
     "name": "stdout",
     "output_type": "stream",
     "text": [
      "Repeat 1 of 10\n",
      "-------------------------\n",
      "Training from layer 17\n",
      "Epoch 1/20\n",
      "543/543 [==============================] - 104s 192ms/step - loss: 1.9720 - acc: 0.7808\n",
      "\n",
      "kappa improvement: 0.5136902495367197 (before: -inf), saving to exp2_img_repeat-00.hdf5\n",
      "Epoch 2/20\n",
      "543/543 [==============================] - 128s 235ms/step - loss: 1.1865 - acc: 0.8341\n",
      "Epoch 3/20\n",
      "543/543 [==============================] - 105s 193ms/step - loss: 0.8952 - acc: 0.8460\n",
      "\n",
      "kappa improvement: 0.544432994593909 (before: 0.5136902495367197), saving to exp2_img_repeat-00.hdf5\n",
      "Epoch 4/20\n",
      "543/543 [==============================] - 103s 191ms/step - loss: 0.7020 - acc: 0.8625\n",
      "\n",
      "kappa improvement: 0.5610624677468194 (before: 0.544432994593909), saving to exp2_img_repeat-00.hdf5\n",
      "Epoch 5/20\n",
      "543/543 [==============================] - 103s 190ms/step - loss: 0.6310 - acc: 0.8636\n",
      "Epoch 6/20\n",
      "543/543 [==============================] - 104s 191ms/step - loss: 0.5377 - acc: 0.8715\n",
      "Epoch 7/20\n",
      "543/543 [==============================] - 104s 191ms/step - loss: 0.4771 - acc: 0.8777\n",
      "Epoch 8/20\n",
      "543/543 [==============================] - 104s 191ms/step - loss: 0.4432 - acc: 0.8829\n",
      "Epoch 9/20\n",
      "543/543 [==============================] - 103s 190ms/step - loss: 0.4138 - acc: 0.8852\n",
      "Epoch 10/20\n",
      "543/543 [==============================] - 104s 191ms/step - loss: 0.3765 - acc: 0.8886\n",
      "Epoch 11/20\n",
      "543/543 [==============================] - 104s 191ms/step - loss: 0.3628 - acc: 0.8946\n",
      "Epoch 12/20\n",
      "543/543 [==============================] - 104s 191ms/step - loss: 0.3419 - acc: 0.8944\n",
      "Epoch 13/20\n",
      "543/543 [==============================] - 103s 190ms/step - loss: 0.3244 - acc: 0.9020\n",
      "Epoch 14/20\n",
      "543/543 [==============================] - 103s 190ms/step - loss: 0.2982 - acc: 0.9038\n",
      "Epoch 15/20\n",
      "543/543 [==============================] - 104s 191ms/step - loss: 0.2973 - acc: 0.9044\n",
      "Epoch 16/20\n",
      "543/543 [==============================] - 104s 191ms/step - loss: 0.2878 - acc: 0.9066\n",
      "Epoch 17/20\n",
      "543/543 [==============================] - 104s 191ms/step - loss: 0.2695 - acc: 0.9100\n",
      "Epoch 18/20\n",
      "543/543 [==============================] - 104s 191ms/step - loss: 0.2644 - acc: 0.9113\n",
      "Epoch 19/20\n",
      "543/543 [==============================] - 104s 191ms/step - loss: 0.2545 - acc: 0.9152\n",
      "Epoch 20/20\n",
      "543/543 [==============================] - 103s 191ms/step - loss: 0.2447 - acc: 0.9165\n",
      "Repeat 2 of 10\n",
      "-------------------------\n",
      "Training from layer 17\n",
      "Epoch 1/20\n",
      "543/543 [==============================] - 105s 193ms/step - loss: 2.1096 - acc: 0.7928\n",
      "\n",
      "kappa improvement: 0.49260989717756987 (before: -inf), saving to exp2_img_repeat-01.hdf5\n",
      "Epoch 2/20\n",
      "543/543 [==============================] - 104s 191ms/step - loss: 1.3383 - acc: 0.8362\n",
      "Epoch 3/20\n",
      "543/543 [==============================] - 104s 191ms/step - loss: 1.0394 - acc: 0.8553\n",
      "Epoch 4/20\n",
      "543/543 [==============================] - 104s 191ms/step - loss: 0.8539 - acc: 0.8640\n",
      "\n",
      "kappa improvement: 0.5310006799213981 (before: 0.49260989717756987), saving to exp2_img_repeat-01.hdf5\n",
      "Epoch 5/20\n",
      "543/543 [==============================] - 104s 192ms/step - loss: 0.7488 - acc: 0.8675\n",
      "Epoch 6/20\n",
      "543/543 [==============================] - 104s 191ms/step - loss: 0.6095 - acc: 0.8779\n",
      "Epoch 7/20\n",
      "543/543 [==============================] - 103s 191ms/step - loss: 0.5500 - acc: 0.8813\n",
      "Epoch 8/20\n",
      "543/543 [==============================] - 104s 191ms/step - loss: 0.5043 - acc: 0.8835\n",
      "Epoch 9/20\n",
      "543/543 [==============================] - 104s 191ms/step - loss: 0.4627 - acc: 0.8866\n",
      "Epoch 10/20\n",
      "543/543 [==============================] - 104s 191ms/step - loss: 0.4270 - acc: 0.8916\n",
      "Epoch 11/20\n",
      "543/543 [==============================] - 104s 192ms/step - loss: 0.3955 - acc: 0.8939\n",
      "Epoch 12/20\n",
      "543/543 [==============================] - 104s 192ms/step - loss: 0.3655 - acc: 0.8983\n",
      "Epoch 13/20\n",
      "543/543 [==============================] - 104s 191ms/step - loss: 0.3451 - acc: 0.9011\n",
      "Epoch 14/20\n",
      "543/543 [==============================] - 104s 191ms/step - loss: 0.3435 - acc: 0.9020\n",
      "Epoch 15/20\n",
      "543/543 [==============================] - 104s 191ms/step - loss: 0.3214 - acc: 0.9019\n",
      "Epoch 16/20\n",
      "543/543 [==============================] - 104s 191ms/step - loss: 0.3134 - acc: 0.9065\n",
      "Epoch 17/20\n",
      "543/543 [==============================] - 104s 191ms/step - loss: 0.2897 - acc: 0.9130\n",
      "Epoch 18/20\n",
      "543/543 [==============================] - 104s 192ms/step - loss: 0.2743 - acc: 0.9142\n",
      "Epoch 19/20\n",
      "543/543 [==============================] - 105s 194ms/step - loss: 0.2716 - acc: 0.9136\n",
      "Epoch 20/20\n",
      "543/543 [==============================] - 104s 191ms/step - loss: 0.2503 - acc: 0.9189\n",
      "Repeat 3 of 10\n",
      "-------------------------\n",
      "Training from layer 17\n",
      "Epoch 1/20\n",
      "543/543 [==============================] - 106s 195ms/step - loss: 1.9172 - acc: 0.7920\n",
      "\n",
      "kappa improvement: 0.4896341228494496 (before: -inf), saving to exp2_img_repeat-02.hdf5\n",
      "Epoch 2/20\n",
      "543/543 [==============================] - 103s 190ms/step - loss: 1.2042 - acc: 0.8412\n",
      "\n",
      "kappa improvement: 0.5356089758099809 (before: 0.4896341228494496), saving to exp2_img_repeat-02.hdf5\n",
      "Epoch 3/20\n",
      "543/543 [==============================] - 105s 193ms/step - loss: 0.9116 - acc: 0.8528\n",
      "Epoch 4/20\n",
      "543/543 [==============================] - 103s 190ms/step - loss: 0.7954 - acc: 0.8608\n",
      "Epoch 5/20\n",
      "543/543 [==============================] - 104s 191ms/step - loss: 0.6337 - acc: 0.8702\n",
      "Epoch 6/20\n",
      " 80/543 [===>..........................] - ETA: 1:29 - loss: 0.5829 - acc: 0.8684"
     ]
    }
   ],
   "source": [
    "n_repeats = 10\n",
    "n_epochs = 20\n",
    "exp_history = []\n",
    "optimize_for = 'kappa'\n",
    "for i in range(n_repeats):\n",
    "    print(\"Repeat \" + str(i+1) + \" of \" + str(n_repeats))\n",
    "    print(\"-------------------------\")\n",
    "    \n",
    "    if 'model_singlepage' in locals():\n",
    "        del model_singlepage\n",
    "        del checkpoint\n",
    "        gc.collect()\n",
    "        time.sleep(2)\n",
    "        K.clear_session()\n",
    "        time.sleep(2)\n",
    "    \n",
    "    model_singlepage = model_img.compile_model_singlepage(img_dim)\n",
    "    model_file = \"exp2_img_repeat-%02d.hdf5\" % (i,)\n",
    "    checkpoint = model_img.ValidationCheckpoint(model_file, data_test, img_dim, metric=optimize_for)\n",
    "    model_singlepage.fit_generator(\n",
    "        generator=model_img.ImageFeatureGenerator(data_train, img_dim),\n",
    "        callbacks = [checkpoint],\n",
    "        epochs = n_epochs\n",
    "    )\n",
    "    \n",
    "#     model_slices = model_img.compile_model_singlepage_slices(img_dim, print_summary=False)\n",
    "#     model_file = \"exp1_slices_repeat-%02d.hdf5\" % (i,)\n",
    "#     checkpoint = model_img.ValidationCheckpoint(model_file, data_test, img_dim, prev_page_generator='slices', metric=optimize_for)\n",
    "#     model_slices.fit_generator(\n",
    "#         generator=model_img.ImageFeatureGenerator(data_train, img_dim, slices = True),\n",
    "#         callbacks = [checkpoint],\n",
    "#         epochs = n_epochs\n",
    "#     )\n",
    "    \n",
    "\n",
    "    with open(\"current_learning_progress.txt\", \"a\") as pfile:\n",
    "        pfile.write(str(i) + \": \" + str(checkpoint.max_metrics) + '\\n')\n",
    "\n",
    "    exp_history.append(checkpoint.max_metrics)\n",
    "\n",
    "avg_result = sum([m['kappa'] for m in exp_history]) / n_repeats\n",
    "avg_acc = sum([m['accuracy'] for m in exp_history]) / n_repeats\n",
    "print(\"-------------------------\")\n",
    "print(avg_result)\n",
    "print(avg_acc)"
   ]
  },
  {
   "cell_type": "code",
   "execution_count": 29,
   "metadata": {},
   "outputs": [
    {
     "name": "stdout",
     "output_type": "stream",
     "text": [
      "0 0.5122812735881425 0.8904808635917566 exp2_img_repeat-00.hdf5\n",
      "1 0.4999373776599725 0.8777232580961727 exp2_img_repeat-01.hdf5\n",
      "2 0.5141369577727235 0.8975466143277723 exp2_img_repeat-02.hdf5\n",
      "3 0.5337580619138436 0.8914622178606477 exp2_img_repeat-03.hdf5\n",
      "4 0.5230150789680554 0.8971540726202158 exp2_img_repeat-04.hdf5\n",
      "5 0.512712131890368 0.8914622178606477 exp2_img_repeat-05.hdf5\n",
      "6 0.5136244734338904 0.8896957801766437 exp2_img_repeat-06.hdf5\n",
      "7 0.5009906416932111 0.8930323846908734 exp2_img_repeat-07.hdf5\n",
      "8 0.4898900859723583 0.8781157998037291 exp2_img_repeat-08.hdf5\n",
      "9 0.5111031958218717 0.8902845927379784 exp2_img_repeat-09.hdf5\n",
      "------------------------- VGG16 non-trainable\n",
      "0.5111449278714437\n",
      "0.8896957801766439\n"
     ]
    }
   ],
   "source": [
    "for i, r in enumerate(exp_history):\n",
    "    model_file = \"exp2_img_repeat-%02d.hdf5\" % (i,)\n",
    "    print(str(i) + ' ' + str(r['kappa']) + ' ' + str(r['accuracy']) + ' ' + model_file)\n",
    "print(\"------------------------- VGG16 non-trainable\")\n",
    "print(avg_result)\n",
    "print(avg_acc)"
   ]
  },
  {
   "cell_type": "code",
   "execution_count": 32,
   "metadata": {
    "scrolled": true
   },
   "outputs": [
    {
     "name": "stdout",
     "output_type": "stream",
     "text": [
      "0 0.5531735085187636 0.8920510304219823 exp2_img_repeat-00.hdf5\n",
      "1 0.5391492250163672 0.8894995093228656 exp2_img_repeat-01.hdf5\n",
      "2 0.5136198298138486 0.8861629048086359 exp2_img_repeat-02.hdf5\n",
      "3 0.5467867137526652 0.8951913640824337 exp2_img_repeat-03.hdf5\n",
      "4 0.5521696484918528 0.8865554465161923 exp2_img_repeat-04.hdf5\n",
      "5 0.5432006986659095 0.8977428851815505 exp2_img_repeat-05.hdf5\n",
      "6 0.5576752420388299 0.8849852796859666 exp2_img_repeat-06.hdf5\n",
      "7 0.5670913648399796 0.8997055937193327 exp2_img_repeat-07.hdf5\n",
      "8 0.5544023782109659 0.8930323846908734 exp2_img_repeat-08.hdf5\n",
      "9 0.5491288029050074 0.8861629048086359 exp2_img_repeat-09.hdf5\n",
      "------------------------- VGG16 13 Layers non-trainable\n",
      "0.547639741225419\n",
      "0.8911089303238467\n"
     ]
    }
   ],
   "source": [
    "for i, r in enumerate(exp_history):\n",
    "    model_file = \"exp2_img_repeat-%02d.hdf5\" % (i,)\n",
    "    print(str(i) + ' ' + str(r['kappa']) + ' ' + str(r['accuracy']) + ' ' + model_file)\n",
    "print(\"------------------------- VGG16 13 Layers non-trainable\")\n",
    "print(avg_result)\n",
    "print(avg_acc)"
   ]
  },
  {
   "cell_type": "code",
   "execution_count": 11,
   "metadata": {},
   "outputs": [
    {
     "name": "stdout",
     "output_type": "stream",
     "text": [
      "0 0.5574294841351988 0.8949950932286556 0.7786291816168562 exp2_img_repeat-00.hdf5\n",
      "1 0.5786048536293394 0.8993130520117762 0.7892472291143108 exp2_img_repeat-01.hdf5\n",
      "2 0.5701592616825089 0.898135426889107 0.7849915384739852 exp2_img_repeat-02.hdf5\n",
      "3 0.545950299031571 0.8930323846908734 0.7728533041069929 exp2_img_repeat-03.hdf5\n",
      "4 0.5399405782373612 0.8857703631010795 0.7699685046699973 exp2_img_repeat-04.hdf5\n",
      "5 0.566172097361854 0.8951913640824337 0.7830610736105921 exp2_img_repeat-05.hdf5\n",
      "6 0.5708232192518526 0.8971540726202158 0.785364961085953 exp2_img_repeat-06.hdf5\n",
      "7 0.580795509810331 0.8987242394504417 0.7903736216911338 exp2_img_repeat-07.hdf5\n",
      "8 0.5415033443224394 0.8979391560353287 0.770149525134159 exp2_img_repeat-08.hdf5\n",
      "9 0.561660578334642 0.9010794896957802 0.7803972464222235 exp2_img_repeat-09.hdf5\n",
      "------------------------- VGG16 13 Layers non-trainable\n",
      "0.5613039225797098\n",
      "0.8961334641805692\n"
     ]
    }
   ],
   "source": [
    "for i, r in enumerate(exp_history):\n",
    "    model_file = \"exp2_img_repeat-%02d.hdf5\" % (i,)\n",
    "    print(str(i) + ' ' + str(r['kappa']) + ' ' + str(r['accuracy']) + ' ' + str(r['f1_macro']) + ' ' + model_file)\n",
    "print(\"------------------------- VGG16 13 Layers non-trainable\")\n",
    "print(avg_result)\n",
    "print(avg_acc)"
   ]
  },
  {
   "cell_type": "code",
   "execution_count": null,
   "metadata": {},
   "outputs": [],
   "source": [
    "from keras.applications.vgg16 import preprocess_input\n",
    "image_file = '15_1_0280.png'\n",
    "tiles = image_slicer.slice(image_file, 6, save = False)\n",
    "slices = []\n",
    "for tile in tiles:\n",
    "    image = img_to_array(tile.image)\n",
    "    print(image.shape)\n",
    "    image = np.repeat(image, 3, axis=2)\n",
    "    print(image.shape)\n",
    "    slice = preprocess_input(image)\n",
    "    slices.append(slice)"
   ]
  },
  {
   "cell_type": "code",
   "execution_count": null,
   "metadata": {},
   "outputs": [],
   "source": [
    "print(\"-------------------------\")\n",
    "print(avg_result)\n",
    "print(avg_acc)"
   ]
  },
  {
   "cell_type": "code",
   "execution_count": null,
   "metadata": {},
   "outputs": [],
   "source": [
    "testlist = [[1,2,3,4],[5,6,7,8]]\n",
    "np.array(list(zip(*testlist)))"
   ]
  },
  {
   "cell_type": "markdown",
   "metadata": {},
   "source": [
    "# Experiment: Predecessor page"
   ]
  },
  {
   "cell_type": "markdown",
   "metadata": {},
   "source": [
    "*IMPORTANT RESULT*: \n",
    "So far, it looks that predecessor image information does not contribute to PSS!"
   ]
  },
  {
   "cell_type": "code",
   "execution_count": 8,
   "metadata": {},
   "outputs": [
    {
     "data": {
      "text/plain": [
       "<module 'model_img' from '/srv/home/gwiedemann/pss-lre/model_img.py'>"
      ]
     },
     "execution_count": 8,
     "metadata": {},
     "output_type": "execute_result"
    }
   ],
   "source": [
    "reload(model_img)"
   ]
  },
  {
   "cell_type": "code",
   "execution_count": 15,
   "metadata": {
    "scrolled": true
   },
   "outputs": [
    {
     "name": "stdout",
     "output_type": "stream",
     "text": [
      "Repeat 1 of 10\n",
      "-------------------------\n",
      "Epoch 1/15\n",
      "543/543 [==============================] - 120s 220ms/step - loss: 0.5579 - acc: 0.8246\n",
      "\n",
      "kappa improvement: 0.49883967897177706 (before: -inf), saving to exp2_prev-page_repeat-00.hdf5\n",
      "Epoch 2/15\n",
      "543/543 [==============================] - 116s 213ms/step - loss: 0.2403 - acc: 0.8996\n",
      "\n",
      "kappa improvement: 0.537993461608826 (before: 0.49883967897177706), saving to exp2_prev-page_repeat-00.hdf5\n",
      "Epoch 3/15\n",
      "543/543 [==============================] - 116s 214ms/step - loss: 0.1861 - acc: 0.9243\n",
      "Epoch 4/15\n",
      "543/543 [==============================] - 116s 214ms/step - loss: 0.1546 - acc: 0.9359\n",
      "\n",
      "kappa improvement: 0.5685703637963293 (before: 0.537993461608826), saving to exp2_prev-page_repeat-00.hdf5\n",
      "Epoch 5/15\n",
      "543/543 [==============================] - 116s 214ms/step - loss: 0.1186 - acc: 0.9526\n",
      "Epoch 6/15\n",
      "543/543 [==============================] - 117s 215ms/step - loss: 0.0969 - acc: 0.9620\n",
      "Epoch 7/15\n",
      "543/543 [==============================] - 116s 214ms/step - loss: 0.0743 - acc: 0.9724\n",
      "\n",
      "kappa improvement: 0.5713228269334212 (before: 0.5685703637963293), saving to exp2_prev-page_repeat-00.hdf5\n",
      "Epoch 8/15\n",
      "543/543 [==============================] - 116s 214ms/step - loss: 0.0691 - acc: 0.9745\n",
      "Epoch 9/15\n",
      "543/543 [==============================] - 116s 215ms/step - loss: 0.0550 - acc: 0.9785\n",
      "\n",
      "kappa improvement: 0.5743994042608302 (before: 0.5713228269334212), saving to exp2_prev-page_repeat-00.hdf5\n",
      "Epoch 10/15\n",
      "543/543 [==============================] - 116s 214ms/step - loss: 0.0524 - acc: 0.9810\n",
      "Epoch 11/15\n",
      "543/543 [==============================] - 116s 214ms/step - loss: 0.0474 - acc: 0.9816\n",
      "Epoch 12/15\n",
      "543/543 [==============================] - 116s 214ms/step - loss: 0.0404 - acc: 0.9849\n",
      "Epoch 13/15\n",
      "543/543 [==============================] - 116s 214ms/step - loss: 0.0302 - acc: 0.9894\n",
      "Epoch 14/15\n",
      "543/543 [==============================] - 116s 214ms/step - loss: 0.0286 - acc: 0.9904\n",
      "Epoch 15/15\n",
      "543/543 [==============================] - 117s 215ms/step - loss: 0.0329 - acc: 0.9875\n",
      "Repeat 2 of 10\n",
      "-------------------------\n",
      "Epoch 1/15\n",
      "543/543 [==============================] - 118s 217ms/step - loss: 0.6073 - acc: 0.8154\n",
      "\n",
      "kappa improvement: 0.42790705469293355 (before: -inf), saving to exp2_prev-page_repeat-01.hdf5\n",
      "Epoch 2/15\n",
      "543/543 [==============================] - 117s 215ms/step - loss: 0.2495 - acc: 0.8946\n",
      "\n",
      "kappa improvement: 0.526314662752114 (before: 0.42790705469293355), saving to exp2_prev-page_repeat-01.hdf5\n",
      "Epoch 3/15\n",
      "543/543 [==============================] - 117s 215ms/step - loss: 0.1936 - acc: 0.9187\n",
      "\n",
      "kappa improvement: 0.5320113482322091 (before: 0.526314662752114), saving to exp2_prev-page_repeat-01.hdf5\n",
      "Epoch 4/15\n",
      "543/543 [==============================] - 116s 215ms/step - loss: 0.1535 - acc: 0.9377\n",
      "\n",
      "kappa improvement: 0.5825763430506814 (before: 0.5320113482322091), saving to exp2_prev-page_repeat-01.hdf5\n",
      "Epoch 5/15\n",
      "543/543 [==============================] - 116s 214ms/step - loss: 0.1287 - acc: 0.9491\n",
      "Epoch 6/15\n",
      "543/543 [==============================] - 116s 214ms/step - loss: 0.0963 - acc: 0.9609\n",
      "Epoch 7/15\n",
      "543/543 [==============================] - 117s 215ms/step - loss: 0.0776 - acc: 0.9702\n",
      "Epoch 8/15\n",
      "543/543 [==============================] - 116s 214ms/step - loss: 0.0663 - acc: 0.9759\n",
      "Epoch 9/15\n",
      "543/543 [==============================] - 116s 215ms/step - loss: 0.0600 - acc: 0.9767\n",
      "Epoch 10/15\n",
      "543/543 [==============================] - 116s 214ms/step - loss: 0.0532 - acc: 0.9819\n",
      "Epoch 11/15\n",
      "543/543 [==============================] - 116s 214ms/step - loss: 0.0438 - acc: 0.9838\n",
      "Epoch 12/15\n",
      "543/543 [==============================] - 116s 213ms/step - loss: 0.0430 - acc: 0.9841\n",
      "Epoch 13/15\n",
      "543/543 [==============================] - 117s 216ms/step - loss: 0.0458 - acc: 0.9842\n",
      "Epoch 14/15\n",
      "543/543 [==============================] - 116s 214ms/step - loss: 0.0333 - acc: 0.9875\n",
      "Epoch 15/15\n",
      "543/543 [==============================] - 116s 214ms/step - loss: 0.0261 - acc: 0.9906\n",
      "Repeat 3 of 10\n",
      "-------------------------\n",
      "Epoch 1/15\n",
      "543/543 [==============================] - 117s 216ms/step - loss: 0.5653 - acc: 0.8213\n",
      "\n",
      "kappa improvement: 0.424124035579144 (before: -inf), saving to exp2_prev-page_repeat-02.hdf5\n",
      "Epoch 2/15\n",
      "543/543 [==============================] - 116s 213ms/step - loss: 0.2463 - acc: 0.8928\n",
      "\n",
      "kappa improvement: 0.4855913205674487 (before: 0.424124035579144), saving to exp2_prev-page_repeat-02.hdf5\n",
      "Epoch 3/15\n",
      "543/543 [==============================] - 116s 214ms/step - loss: 0.1923 - acc: 0.9195\n",
      "\n",
      "kappa improvement: 0.5411853147268173 (before: 0.4855913205674487), saving to exp2_prev-page_repeat-02.hdf5\n",
      "Epoch 4/15\n",
      "543/543 [==============================] - 116s 214ms/step - loss: 0.1565 - acc: 0.9385\n",
      "Epoch 5/15\n",
      "543/543 [==============================] - 116s 214ms/step - loss: 0.1174 - acc: 0.9531\n",
      "Epoch 6/15\n",
      "543/543 [==============================] - 117s 215ms/step - loss: 0.0982 - acc: 0.9617\n",
      "\n",
      "kappa improvement: 0.5545229434017052 (before: 0.5411853147268173), saving to exp2_prev-page_repeat-02.hdf5\n",
      "Epoch 7/15\n",
      "543/543 [==============================] - 115s 213ms/step - loss: 0.0799 - acc: 0.9679\n",
      "Epoch 8/15\n",
      "543/543 [==============================] - 116s 214ms/step - loss: 0.0638 - acc: 0.9757\n",
      "\n",
      "kappa improvement: 0.5635827136762945 (before: 0.5545229434017052), saving to exp2_prev-page_repeat-02.hdf5\n",
      "Epoch 9/15\n",
      "543/543 [==============================] - 116s 214ms/step - loss: 0.0600 - acc: 0.9784\n",
      "Epoch 10/15\n",
      "543/543 [==============================] - 116s 214ms/step - loss: 0.0521 - acc: 0.9805\n",
      "\n",
      "kappa improvement: 0.5725330423965249 (before: 0.5635827136762945), saving to exp2_prev-page_repeat-02.hdf5\n",
      "Epoch 11/15\n",
      "543/543 [==============================] - 117s 215ms/step - loss: 0.0460 - acc: 0.9819\n",
      "Epoch 12/15\n",
      "543/543 [==============================] - 116s 214ms/step - loss: 0.0390 - acc: 0.9860\n",
      "Epoch 13/15\n",
      "543/543 [==============================] - 116s 214ms/step - loss: 0.0383 - acc: 0.9865\n",
      "Epoch 14/15\n",
      "543/543 [==============================] - 116s 214ms/step - loss: 0.0349 - acc: 0.9874\n",
      "Epoch 15/15\n",
      "543/543 [==============================] - 116s 214ms/step - loss: 0.0307 - acc: 0.9885\n",
      "Repeat 4 of 10\n",
      "-------------------------\n",
      "Epoch 1/15\n",
      "543/543 [==============================] - 118s 217ms/step - loss: 0.6303 - acc: 0.8130\n",
      "\n",
      "kappa improvement: 0.4174178642753652 (before: -inf), saving to exp2_prev-page_repeat-03.hdf5\n",
      "Epoch 2/15\n",
      "543/543 [==============================] - 116s 214ms/step - loss: 0.2548 - acc: 0.8920\n",
      "\n",
      "kappa improvement: 0.4708922721304649 (before: 0.4174178642753652), saving to exp2_prev-page_repeat-03.hdf5\n",
      "Epoch 3/15\n",
      "543/543 [==============================] - 116s 214ms/step - loss: 0.1956 - acc: 0.9190\n",
      "\n",
      "kappa improvement: 0.5113628884396597 (before: 0.4708922721304649), saving to exp2_prev-page_repeat-03.hdf5\n",
      "Epoch 4/15\n",
      "543/543 [==============================] - 116s 213ms/step - loss: 0.1513 - acc: 0.9374\n",
      "\n",
      "kappa improvement: 0.5471976683071337 (before: 0.5113628884396597), saving to exp2_prev-page_repeat-03.hdf5\n",
      "Epoch 5/15\n",
      "543/543 [==============================] - 116s 214ms/step - loss: 0.1254 - acc: 0.9503\n",
      "Epoch 6/15\n",
      "543/543 [==============================] - 116s 214ms/step - loss: 0.0988 - acc: 0.9621\n",
      "Epoch 7/15\n",
      "543/543 [==============================] - 116s 214ms/step - loss: 0.0781 - acc: 0.9718\n",
      "\n",
      "kappa improvement: 0.5705053904646573 (before: 0.5471976683071337), saving to exp2_prev-page_repeat-03.hdf5\n",
      "Epoch 8/15\n",
      "543/543 [==============================] - 116s 213ms/step - loss: 0.0728 - acc: 0.9723\n",
      "Epoch 9/15\n",
      "543/543 [==============================] - 117s 215ms/step - loss: 0.0618 - acc: 0.9770\n",
      "Epoch 10/15\n",
      "543/543 [==============================] - 116s 214ms/step - loss: 0.0526 - acc: 0.9798\n",
      "Epoch 11/15\n",
      "543/543 [==============================] - 116s 214ms/step - loss: 0.0409 - acc: 0.9848\n",
      "Epoch 12/15\n",
      "543/543 [==============================] - 116s 214ms/step - loss: 0.0466 - acc: 0.9821\n",
      "Epoch 13/15\n",
      "543/543 [==============================] - 116s 213ms/step - loss: 0.0315 - acc: 0.9881\n",
      "Epoch 14/15\n",
      "543/543 [==============================] - 116s 214ms/step - loss: 0.0379 - acc: 0.9875\n",
      "\n",
      "kappa improvement: 0.5900362900440113 (before: 0.5705053904646573), saving to exp2_prev-page_repeat-03.hdf5\n"
     ]
    },
    {
     "name": "stdout",
     "output_type": "stream",
     "text": [
      "Epoch 15/15\n",
      "543/543 [==============================] - 117s 215ms/step - loss: 0.0375 - acc: 0.9862\n",
      "Repeat 5 of 10\n",
      "-------------------------\n",
      "Epoch 1/15\n",
      "543/543 [==============================] - 117s 216ms/step - loss: 0.5808 - acc: 0.8226\n",
      "\n",
      "kappa improvement: 0.3269189343705814 (before: -inf), saving to exp2_prev-page_repeat-04.hdf5\n",
      "Epoch 2/15\n",
      "543/543 [==============================] - 117s 215ms/step - loss: 0.2493 - acc: 0.8942\n",
      "\n",
      "kappa improvement: 0.483522150305963 (before: 0.3269189343705814), saving to exp2_prev-page_repeat-04.hdf5\n",
      "Epoch 3/15\n",
      "543/543 [==============================] - 116s 213ms/step - loss: 0.1931 - acc: 0.9213\n",
      "\n",
      "kappa improvement: 0.5460484804286824 (before: 0.483522150305963), saving to exp2_prev-page_repeat-04.hdf5\n",
      "Epoch 4/15\n",
      "543/543 [==============================] - 116s 213ms/step - loss: 0.1570 - acc: 0.9373\n",
      "Epoch 5/15\n",
      "543/543 [==============================] - 116s 214ms/step - loss: 0.1236 - acc: 0.9499\n",
      "\n",
      "kappa improvement: 0.5693049287324634 (before: 0.5460484804286824), saving to exp2_prev-page_repeat-04.hdf5\n",
      "Epoch 6/15\n",
      "543/543 [==============================] - 116s 214ms/step - loss: 0.1032 - acc: 0.9602\n",
      "Epoch 7/15\n",
      "543/543 [==============================] - 117s 215ms/step - loss: 0.0766 - acc: 0.9717\n",
      "\n",
      "kappa improvement: 0.5709118164389856 (before: 0.5693049287324634), saving to exp2_prev-page_repeat-04.hdf5\n",
      "Epoch 8/15\n",
      "543/543 [==============================] - 116s 214ms/step - loss: 0.0643 - acc: 0.9749\n",
      "Epoch 9/15\n",
      "543/543 [==============================] - 116s 214ms/step - loss: 0.0677 - acc: 0.9750\n",
      "Epoch 10/15\n",
      "543/543 [==============================] - 116s 214ms/step - loss: 0.0557 - acc: 0.9801\n",
      "\n",
      "kappa improvement: 0.5781170523593033 (before: 0.5709118164389856), saving to exp2_prev-page_repeat-04.hdf5\n",
      "Epoch 11/15\n",
      "543/543 [==============================] - 117s 215ms/step - loss: 0.0491 - acc: 0.9823\n",
      "Epoch 12/15\n",
      "543/543 [==============================] - 116s 213ms/step - loss: 0.0385 - acc: 0.9860\n",
      "Epoch 13/15\n",
      "543/543 [==============================] - 116s 214ms/step - loss: 0.0400 - acc: 0.9867\n",
      "Epoch 14/15\n",
      "543/543 [==============================] - 116s 214ms/step - loss: 0.0321 - acc: 0.9877\n",
      "Epoch 15/15\n",
      "543/543 [==============================] - 116s 214ms/step - loss: 0.0243 - acc: 0.9907\n",
      "Repeat 6 of 10\n",
      "-------------------------\n",
      "Epoch 1/15\n",
      "543/543 [==============================] - 117s 216ms/step - loss: 0.5896 - acc: 0.8177\n",
      "\n",
      "kappa improvement: 0.4814019870333901 (before: -inf), saving to exp2_prev-page_repeat-05.hdf5\n",
      "Epoch 2/15\n",
      "543/543 [==============================] - 117s 216ms/step - loss: 0.2401 - acc: 0.9000\n",
      "\n",
      "kappa improvement: 0.5320586309211005 (before: 0.4814019870333901), saving to exp2_prev-page_repeat-05.hdf5\n",
      "Epoch 3/15\n",
      "543/543 [==============================] - 117s 215ms/step - loss: 0.1788 - acc: 0.9247\n",
      "Epoch 4/15\n",
      "543/543 [==============================] - 116s 214ms/step - loss: 0.1397 - acc: 0.9438\n",
      "\n",
      "kappa improvement: 0.5551453198195773 (before: 0.5320586309211005), saving to exp2_prev-page_repeat-05.hdf5\n",
      "Epoch 5/15\n",
      "543/543 [==============================] - 116s 213ms/step - loss: 0.1082 - acc: 0.9584\n",
      "Epoch 6/15\n",
      "543/543 [==============================] - 116s 214ms/step - loss: 0.0892 - acc: 0.9656\n",
      "Epoch 7/15\n",
      "543/543 [==============================] - 116s 214ms/step - loss: 0.0767 - acc: 0.9721\n",
      "\n",
      "kappa improvement: 0.5653012157161269 (before: 0.5551453198195773), saving to exp2_prev-page_repeat-05.hdf5\n",
      "Epoch 8/15\n",
      "543/543 [==============================] - 116s 214ms/step - loss: 0.0606 - acc: 0.9774\n",
      "Epoch 9/15\n",
      "543/543 [==============================] - 116s 214ms/step - loss: 0.0495 - acc: 0.9820\n",
      "\n",
      "kappa improvement: 0.5716580722761193 (before: 0.5653012157161269), saving to exp2_prev-page_repeat-05.hdf5\n",
      "Epoch 10/15\n",
      "543/543 [==============================] - 116s 214ms/step - loss: 0.0502 - acc: 0.9818\n",
      "Epoch 11/15\n",
      "543/543 [==============================] - 116s 213ms/step - loss: 0.0443 - acc: 0.9838\n",
      "Epoch 12/15\n",
      "543/543 [==============================] - 117s 215ms/step - loss: 0.0415 - acc: 0.9853\n",
      "Epoch 13/15\n",
      "543/543 [==============================] - 116s 214ms/step - loss: 0.0338 - acc: 0.9882\n",
      "\n",
      "kappa improvement: 0.5960922016537417 (before: 0.5716580722761193), saving to exp2_prev-page_repeat-05.hdf5\n",
      "Epoch 14/15\n",
      "543/543 [==============================] - 117s 215ms/step - loss: 0.0238 - acc: 0.9915\n",
      "Epoch 15/15\n",
      "543/543 [==============================] - 116s 214ms/step - loss: 0.0334 - acc: 0.9875\n",
      "Repeat 7 of 10\n",
      "-------------------------\n",
      "Epoch 1/15\n",
      "543/543 [==============================] - 118s 217ms/step - loss: 0.7440 - acc: 0.8198\n",
      "\n",
      "kappa improvement: 0.381952032150944 (before: -inf), saving to exp2_prev-page_repeat-06.hdf5\n",
      "Epoch 2/15\n",
      "543/543 [==============================] - 116s 214ms/step - loss: 0.2482 - acc: 0.8920\n",
      "\n",
      "kappa improvement: 0.44851123137907944 (before: 0.381952032150944), saving to exp2_prev-page_repeat-06.hdf5\n",
      "Epoch 3/15\n",
      "543/543 [==============================] - 116s 213ms/step - loss: 0.1933 - acc: 0.9193\n",
      "\n",
      "kappa improvement: 0.4591387723653797 (before: 0.44851123137907944), saving to exp2_prev-page_repeat-06.hdf5\n",
      "Epoch 4/15\n",
      "543/543 [==============================] - 116s 214ms/step - loss: 0.1520 - acc: 0.9388\n",
      "\n",
      "kappa improvement: 0.46896483912345854 (before: 0.4591387723653797), saving to exp2_prev-page_repeat-06.hdf5\n",
      "Epoch 5/15\n",
      "543/543 [==============================] - 116s 214ms/step - loss: 0.1211 - acc: 0.9515\n",
      "\n",
      "kappa improvement: 0.5261912030622549 (before: 0.46896483912345854), saving to exp2_prev-page_repeat-06.hdf5\n",
      "Epoch 6/15\n",
      "543/543 [==============================] - 116s 214ms/step - loss: 0.0941 - acc: 0.9616\n",
      "Epoch 7/15\n",
      "543/543 [==============================] - 117s 215ms/step - loss: 0.0706 - acc: 0.9721\n",
      "\n",
      "kappa improvement: 0.5512239254378478 (before: 0.5261912030622549), saving to exp2_prev-page_repeat-06.hdf5\n",
      "Epoch 8/15\n",
      "543/543 [==============================] - 116s 213ms/step - loss: 0.0680 - acc: 0.9749\n",
      "Epoch 9/15\n",
      "543/543 [==============================] - 116s 214ms/step - loss: 0.0550 - acc: 0.9798\n",
      "Epoch 10/15\n",
      "543/543 [==============================] - 116s 214ms/step - loss: 0.0449 - acc: 0.9826\n",
      "Epoch 11/15\n",
      "543/543 [==============================] - 116s 214ms/step - loss: 0.0444 - acc: 0.9822\n",
      "Epoch 12/15\n",
      "543/543 [==============================] - 116s 213ms/step - loss: 0.0431 - acc: 0.9847\n",
      "Epoch 13/15\n",
      "543/543 [==============================] - 116s 214ms/step - loss: 0.0360 - acc: 0.9878\n",
      "\n",
      "kappa improvement: 0.5692776231180224 (before: 0.5512239254378478), saving to exp2_prev-page_repeat-06.hdf5\n",
      "Epoch 14/15\n",
      "543/543 [==============================] - 116s 213ms/step - loss: 0.0300 - acc: 0.9892\n",
      "Epoch 15/15\n",
      "543/543 [==============================] - 116s 213ms/step - loss: 0.0319 - acc: 0.9888\n",
      "Repeat 8 of 10\n",
      "-------------------------\n",
      "Epoch 1/15\n",
      "543/543 [==============================] - 118s 216ms/step - loss: 0.5950 - acc: 0.8217\n",
      "\n",
      "kappa improvement: 0.32841686440348317 (before: -inf), saving to exp2_prev-page_repeat-07.hdf5\n",
      "Epoch 2/15\n",
      "543/543 [==============================] - 116s 214ms/step - loss: 0.2462 - acc: 0.8952\n",
      "\n",
      "kappa improvement: 0.5547892982891998 (before: 0.32841686440348317), saving to exp2_prev-page_repeat-07.hdf5\n",
      "Epoch 3/15\n",
      "543/543 [==============================] - 116s 213ms/step - loss: 0.1861 - acc: 0.9236\n",
      "Epoch 4/15\n",
      "543/543 [==============================] - 116s 213ms/step - loss: 0.1459 - acc: 0.9411\n",
      "\n",
      "kappa improvement: 0.5576399382980143 (before: 0.5547892982891998), saving to exp2_prev-page_repeat-07.hdf5\n",
      "Epoch 5/15\n",
      "543/543 [==============================] - 116s 214ms/step - loss: 0.1143 - acc: 0.9553\n",
      "Epoch 6/15\n",
      "543/543 [==============================] - 116s 213ms/step - loss: 0.0948 - acc: 0.9627\n",
      "\n",
      "kappa improvement: 0.5626126733790363 (before: 0.5576399382980143), saving to exp2_prev-page_repeat-07.hdf5\n",
      "Epoch 7/15\n",
      "543/543 [==============================] - 116s 213ms/step - loss: 0.0723 - acc: 0.9715\n",
      "Epoch 8/15\n",
      "543/543 [==============================] - 117s 215ms/step - loss: 0.0662 - acc: 0.9748\n",
      "Epoch 9/15\n",
      "543/543 [==============================] - 116s 213ms/step - loss: 0.0587 - acc: 0.9773\n",
      "\n",
      "kappa improvement: 0.5794326442410999 (before: 0.5626126733790363), saving to exp2_prev-page_repeat-07.hdf5\n",
      "Epoch 10/15\n"
     ]
    },
    {
     "name": "stdout",
     "output_type": "stream",
     "text": [
      "543/543 [==============================] - 116s 214ms/step - loss: 0.0446 - acc: 0.9838\n",
      "543/543 [==============================] - 116s 213ms/step - loss: 0.0514 - acc: 0.9817\n",
      "Epoch 12/15\n",
      "543/543 [==============================] - 116s 214ms/step - loss: 0.0367 - acc: 0.9871\n",
      "\n",
      "kappa improvement: 0.5853219844055793 (before: 0.5794326442410999), saving to exp2_prev-page_repeat-07.hdf5\n",
      "Epoch 13/15\n",
      "543/543 [==============================] - 116s 214ms/step - loss: 0.0349 - acc: 0.9873\n",
      "Epoch 14/15\n",
      "543/543 [==============================] - 116s 214ms/step - loss: 0.0327 - acc: 0.9892\n",
      "Epoch 15/15\n",
      "543/543 [==============================] - 116s 214ms/step - loss: 0.0342 - acc: 0.9879\n",
      "Repeat 9 of 10\n",
      "-------------------------\n",
      "Epoch 1/15\n",
      "543/543 [==============================] - 117s 216ms/step - loss: 0.6227 - acc: 0.8162\n",
      "\n",
      "kappa improvement: 0.3709934150876003 (before: -inf), saving to exp2_prev-page_repeat-08.hdf5\n",
      "Epoch 2/15\n",
      "171/543 [========>.....................] - ETA: 1:20 - loss: 0.2659 - acc: 0.8845"
     ]
    },
    {
     "name": "stderr",
     "output_type": "stream",
     "text": [
      "IOPub message rate exceeded.\n",
      "The notebook server will temporarily stop sending output\n",
      "to the client in order to avoid crashing it.\n",
      "To change this limit, set the config variable\n",
      "`--NotebookApp.iopub_msg_rate_limit`.\n",
      "\n",
      "Current values:\n",
      "NotebookApp.iopub_msg_rate_limit=1000.0 (msgs/sec)\n",
      "NotebookApp.rate_limit_window=3.0 (secs)\n",
      "\n"
     ]
    },
    {
     "name": "stdout",
     "output_type": "stream",
     "text": [
      "543/543 [==============================] - 116s 214ms/step - loss: 0.0593 - acc: 0.9780\n",
      "\n",
      "kappa improvement: 0.5584571725000762 (before: 0.5564292352087646), saving to exp2_prev-page_repeat-08.hdf5\n",
      "Epoch 10/15\n",
      "543/543 [==============================] - 116s 214ms/step - loss: 0.0526 - acc: 0.9804\n",
      "\n",
      "kappa improvement: 0.5805844652202035 (before: 0.5584571725000762), saving to exp2_prev-page_repeat-08.hdf5\n",
      "Epoch 11/15\n",
      "543/543 [==============================] - 116s 213ms/step - loss: 0.0461 - acc: 0.9827\n",
      "Epoch 12/15\n",
      "543/543 [==============================] - 116s 213ms/step - loss: 0.0376 - acc: 0.9876\n",
      "Epoch 13/15\n",
      "543/543 [==============================] - 117s 216ms/step - loss: 0.0377 - acc: 0.9855\n",
      "Epoch 14/15\n",
      "357/543 [==================>...........] - ETA: 39s - loss: 0.0374 - acc: 0.9867"
     ]
    },
    {
     "name": "stderr",
     "output_type": "stream",
     "text": [
      "IOPub message rate exceeded.\n",
      "The notebook server will temporarily stop sending output\n",
      "to the client in order to avoid crashing it.\n",
      "To change this limit, set the config variable\n",
      "`--NotebookApp.iopub_msg_rate_limit`.\n",
      "\n",
      "Current values:\n",
      "NotebookApp.iopub_msg_rate_limit=1000.0 (msgs/sec)\n",
      "NotebookApp.rate_limit_window=3.0 (secs)\n",
      "\n"
     ]
    },
    {
     "name": "stdout",
     "output_type": "stream",
     "text": [
      "543/543 [==============================] - 116s 214ms/step - loss: 0.0749 - acc: 0.9716\n",
      "Epoch 8/15\n",
      "543/543 [==============================] - 116s 214ms/step - loss: 0.0638 - acc: 0.9768\n",
      "Epoch 9/15\n",
      "543/543 [==============================] - 117s 215ms/step - loss: 0.0529 - acc: 0.9801\n",
      "Epoch 10/15\n",
      "543/543 [==============================] - 116s 214ms/step - loss: 0.0426 - acc: 0.9848\n",
      "Epoch 11/15\n",
      "543/543 [==============================] - 116s 213ms/step - loss: 0.0516 - acc: 0.9814\n",
      "Epoch 12/15\n",
      "480/543 [=========================>....] - ETA: 13s - loss: 0.0339 - acc: 0.9875"
     ]
    },
    {
     "name": "stderr",
     "output_type": "stream",
     "text": [
      "IOPub message rate exceeded.\n",
      "The notebook server will temporarily stop sending output\n",
      "to the client in order to avoid crashing it.\n",
      "To change this limit, set the config variable\n",
      "`--NotebookApp.iopub_msg_rate_limit`.\n",
      "\n",
      "Current values:\n",
      "NotebookApp.iopub_msg_rate_limit=1000.0 (msgs/sec)\n",
      "NotebookApp.rate_limit_window=3.0 (secs)\n",
      "\n"
     ]
    }
   ],
   "source": [
    "n_repeats = 10\n",
    "n_epochs = 15\n",
    "exp2b_history = []\n",
    "optimize_for = 'kappa'\n",
    "for i in range(n_repeats):\n",
    "    print(\"Repeat \" + str(i+1) + \" of \" + str(n_repeats))\n",
    "    print(\"-------------------------\")\n",
    "    \n",
    "    if 'model_prevpage' in locals():\n",
    "        del model_prevpage\n",
    "        del checkpoint\n",
    "        gc.collect()\n",
    "        time.sleep(2)\n",
    "        K.clear_session()\n",
    "        time.sleep(2)\n",
    "    \n",
    "    model_prevpage = model_img.compile_model_prevpage(img_dim)\n",
    "    model_file = \"exp2_prev-page_repeat-%02d.hdf5\" % (i,)\n",
    "    checkpoint = model_img.ValidationCheckpoint(model_file, data_test, img_dim, prev_page_generator = True, metric=optimize_for)\n",
    "    model_prevpage.fit_generator(generator=model_img.ImageFeatureGenerator(data_train, img_dim, prevpage=True),\n",
    "                    callbacks = [checkpoint],\n",
    "                    epochs = n_epochs)\n",
    "    exp2b_history.append(checkpoint.max_metrics)\n",
    "    \n",
    "    with open(\"current_learning_progress.txt\", \"a\") as pfile:\n",
    "        pfile.write(str(i) + \": \" + str(checkpoint.max_metrics) + '\\n')\n",
    "\n",
    "avg_kappa = sum([m['kappa'] for m in exp2b_history]) / n_repeats\n",
    "avg_acc = sum([m['accuracy'] for m in exp2b_history]) / n_repeats\n",
    "print(\"-------------------------\")\n",
    "print(avg_kappa)\n",
    "print(avg_acc)"
   ]
  },
  {
   "cell_type": "code",
   "execution_count": 18,
   "metadata": {},
   "outputs": [
    {
     "name": "stdout",
     "output_type": "stream",
     "text": [
      "0 0.5743994042608302 0.8987242394504417 0.7871291265380997 exp2_img_repeat-00.hdf5\n",
      "1 0.5825763430506814 0.9048086359175662 0.7909664021046532 exp2_img_repeat-01.hdf5\n",
      "2 0.5725330423965249 0.8977428851815505 0.7862144503840616 exp2_img_repeat-02.hdf5\n",
      "3 0.5900362900440113 0.9028459273797841 0.794934126290217 exp2_img_repeat-03.hdf5\n",
      "4 0.5781170523593033 0.8969578017664377 0.789052520806111 exp2_img_repeat-04.hdf5\n",
      "5 0.5960922016537417 0.8985279685966634 0.7980312200658954 exp2_img_repeat-05.hdf5\n",
      "6 0.5692776231180224 0.8985279685966634 0.7845232260978263 exp2_img_repeat-06.hdf5\n",
      "7 0.5853219844055793 0.8971540726202158 0.7926599616536878 exp2_img_repeat-07.hdf5\n",
      "8 0.5805844652202035 0.9038272816486752 0.7900121994875273 exp2_img_repeat-08.hdf5\n",
      "9 0.5735645039475368 0.9004906771344455 0.7866165317761218 exp2_img_repeat-09.hdf5\n"
     ]
    }
   ],
   "source": [
    "for i, r in enumerate(exp2b_history):\n",
    "    model_file = \"exp2_prev-page_repeat-%02d.hdf5\" % (i,)\n",
    "    print(str(i) + ' ' + str(r['kappa']) + ' ' + str(r['accuracy']) + ' ' + str(r['f1_macro']) + ' ' + model_file)"
   ]
  },
  {
   "cell_type": "code",
   "execution_count": null,
   "metadata": {},
   "outputs": [],
   "source": [
    "for i, r in enumerate(exp2b_history):\n",
    "    model_file = \"exp2_prev-page_repeat-%02d.hdf5\" % (i,)\n",
    "    print(str(i) + ' ' + str(r['kappa']) + ' ' + str(r['accuracy']) + ' ' + model_file)"
   ]
  },
  {
   "cell_type": "code",
   "execution_count": null,
   "metadata": {},
   "outputs": [],
   "source": [
    "# load best model\n",
    "model.load_weights(\"exp2_prev-page_repeat-03.hdf5.hdf5\")\n",
    "\n",
    "y_predict = model.predict_generator(TextFeatureGenerator2(data_test, batch_size=256)).argmax(axis=-1)\n",
    "y_true = [label2Idx[x[1]] for x in data_test]\n",
    "print(\"Accuracy: \" + str(sklm.accuracy_score(y_true, y_predict)))\n",
    "print(\"Kappa: \" + str(sklm.cohen_kappa_score(y_true, y_predict)))"
   ]
  },
  {
   "cell_type": "code",
   "execution_count": null,
   "metadata": {},
   "outputs": [],
   "source": []
  }
 ],
 "metadata": {
  "kernelspec": {
   "display_name": "Python 3",
   "language": "python",
   "name": "python3"
  },
  "language_info": {
   "codemirror_mode": {
    "name": "ipython",
    "version": 3
   },
   "file_extension": ".py",
   "mimetype": "text/x-python",
   "name": "python",
   "nbconvert_exporter": "python",
   "pygments_lexer": "ipython3",
   "version": "3.6.5"
  }
 },
 "nbformat": 4,
 "nbformat_minor": 2
}
